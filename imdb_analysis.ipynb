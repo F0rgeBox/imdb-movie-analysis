{
 "cells": [
  {
   "cell_type": "markdown",
   "id": "31ed5a22",
   "metadata": {},
   "source": [
    "# Анализ фильмов IMDb 🎬\n",
    "В этом проекте мы исследуем датасет фильмов IMDb: \n",
    "посчитаем основные статистики, посмотрим популярные жанры, \n",
    "найдём фильм с максимальной прибылью и построим графики.\n"
   ]
  },
  {
   "cell_type": "code",
   "execution_count": 2,
   "id": "be7af9c3",
   "metadata": {},
   "outputs": [],
   "source": [
    "import pandas as pd\n",
    "import matplotlib.pyplot as plt\n",
    "import seaborn as sns\n",
    "\n",
    "# Настройка отображения графиков\n",
    "sns.set(style=\"darkgrid\")\n"
   ]
  },
  {
   "cell_type": "code",
   "execution_count": 4,
   "id": "bf42d45a",
   "metadata": {},
   "outputs": [
    {
     "data": {
      "application/vnd.microsoft.datawrangler.viewer.v0+json": {
       "columns": [
        {
         "name": "index",
         "rawType": "int64",
         "type": "integer"
        },
        {
         "name": "Rank",
         "rawType": "int64",
         "type": "integer"
        },
        {
         "name": "Title",
         "rawType": "object",
         "type": "string"
        },
        {
         "name": "Genre",
         "rawType": "object",
         "type": "string"
        },
        {
         "name": "Description",
         "rawType": "object",
         "type": "string"
        },
        {
         "name": "Director",
         "rawType": "object",
         "type": "string"
        },
        {
         "name": "Actors",
         "rawType": "object",
         "type": "string"
        },
        {
         "name": "Year",
         "rawType": "int64",
         "type": "integer"
        },
        {
         "name": "Runtime (Minutes)",
         "rawType": "int64",
         "type": "integer"
        },
        {
         "name": "Rating",
         "rawType": "float64",
         "type": "float"
        },
        {
         "name": "Votes",
         "rawType": "int64",
         "type": "integer"
        },
        {
         "name": "Revenue (Millions)",
         "rawType": "float64",
         "type": "float"
        },
        {
         "name": "Metascore",
         "rawType": "float64",
         "type": "float"
        }
       ],
       "ref": "029109e2-5b43-40db-92d0-dc3a5367c51b",
       "rows": [
        [
         "0",
         "1",
         "Guardians of the Galaxy",
         "Action,Adventure,Sci-Fi",
         "A group of intergalactic criminals are forced to work together to stop a fanatical warrior from taking control of the universe.",
         "James Gunn",
         "Chris Pratt, Vin Diesel, Bradley Cooper, Zoe Saldana",
         "2014",
         "121",
         "8.1",
         "757074",
         "333.13",
         "76.0"
        ],
        [
         "1",
         "2",
         "Prometheus",
         "Adventure,Mystery,Sci-Fi",
         "Following clues to the origin of mankind, a team finds a structure on a distant moon, but they soon realize they are not alone.",
         "Ridley Scott",
         "Noomi Rapace, Logan Marshall-Green, Michael Fassbender, Charlize Theron",
         "2012",
         "124",
         "7.0",
         "485820",
         "126.46",
         "65.0"
        ],
        [
         "2",
         "3",
         "Split",
         "Horror,Thriller",
         "Three girls are kidnapped by a man with a diagnosed 23 distinct personalities. They must try to escape before the apparent emergence of a frightful new 24th.",
         "M. Night Shyamalan",
         "James McAvoy, Anya Taylor-Joy, Haley Lu Richardson, Jessica Sula",
         "2016",
         "117",
         "7.3",
         "157606",
         "138.12",
         "62.0"
        ],
        [
         "3",
         "4",
         "Sing",
         "Animation,Comedy,Family",
         "In a city of humanoid animals, a hustling theater impresario's attempt to save his theater with a singing competition becomes grander than he anticipates even as its finalists' find that their lives will never be the same.",
         "Christophe Lourdelet",
         "Matthew McConaughey,Reese Witherspoon, Seth MacFarlane, Scarlett Johansson",
         "2016",
         "108",
         "7.2",
         "60545",
         "270.32",
         "59.0"
        ],
        [
         "4",
         "5",
         "Suicide Squad",
         "Action,Adventure,Fantasy",
         "A secret government agency recruits some of the most dangerous incarcerated super-villains to form a defensive task force. Their first mission: save the world from the apocalypse.",
         "David Ayer",
         "Will Smith, Jared Leto, Margot Robbie, Viola Davis",
         "2016",
         "123",
         "6.2",
         "393727",
         "325.02",
         "40.0"
        ]
       ],
       "shape": {
        "columns": 12,
        "rows": 5
       }
      },
      "text/html": [
       "<div>\n",
       "<style scoped>\n",
       "    .dataframe tbody tr th:only-of-type {\n",
       "        vertical-align: middle;\n",
       "    }\n",
       "\n",
       "    .dataframe tbody tr th {\n",
       "        vertical-align: top;\n",
       "    }\n",
       "\n",
       "    .dataframe thead th {\n",
       "        text-align: right;\n",
       "    }\n",
       "</style>\n",
       "<table border=\"1\" class=\"dataframe\">\n",
       "  <thead>\n",
       "    <tr style=\"text-align: right;\">\n",
       "      <th></th>\n",
       "      <th>Rank</th>\n",
       "      <th>Title</th>\n",
       "      <th>Genre</th>\n",
       "      <th>Description</th>\n",
       "      <th>Director</th>\n",
       "      <th>Actors</th>\n",
       "      <th>Year</th>\n",
       "      <th>Runtime (Minutes)</th>\n",
       "      <th>Rating</th>\n",
       "      <th>Votes</th>\n",
       "      <th>Revenue (Millions)</th>\n",
       "      <th>Metascore</th>\n",
       "    </tr>\n",
       "  </thead>\n",
       "  <tbody>\n",
       "    <tr>\n",
       "      <th>0</th>\n",
       "      <td>1</td>\n",
       "      <td>Guardians of the Galaxy</td>\n",
       "      <td>Action,Adventure,Sci-Fi</td>\n",
       "      <td>A group of intergalactic criminals are forced ...</td>\n",
       "      <td>James Gunn</td>\n",
       "      <td>Chris Pratt, Vin Diesel, Bradley Cooper, Zoe S...</td>\n",
       "      <td>2014</td>\n",
       "      <td>121</td>\n",
       "      <td>8.1</td>\n",
       "      <td>757074</td>\n",
       "      <td>333.13</td>\n",
       "      <td>76.0</td>\n",
       "    </tr>\n",
       "    <tr>\n",
       "      <th>1</th>\n",
       "      <td>2</td>\n",
       "      <td>Prometheus</td>\n",
       "      <td>Adventure,Mystery,Sci-Fi</td>\n",
       "      <td>Following clues to the origin of mankind, a te...</td>\n",
       "      <td>Ridley Scott</td>\n",
       "      <td>Noomi Rapace, Logan Marshall-Green, Michael Fa...</td>\n",
       "      <td>2012</td>\n",
       "      <td>124</td>\n",
       "      <td>7.0</td>\n",
       "      <td>485820</td>\n",
       "      <td>126.46</td>\n",
       "      <td>65.0</td>\n",
       "    </tr>\n",
       "    <tr>\n",
       "      <th>2</th>\n",
       "      <td>3</td>\n",
       "      <td>Split</td>\n",
       "      <td>Horror,Thriller</td>\n",
       "      <td>Three girls are kidnapped by a man with a diag...</td>\n",
       "      <td>M. Night Shyamalan</td>\n",
       "      <td>James McAvoy, Anya Taylor-Joy, Haley Lu Richar...</td>\n",
       "      <td>2016</td>\n",
       "      <td>117</td>\n",
       "      <td>7.3</td>\n",
       "      <td>157606</td>\n",
       "      <td>138.12</td>\n",
       "      <td>62.0</td>\n",
       "    </tr>\n",
       "    <tr>\n",
       "      <th>3</th>\n",
       "      <td>4</td>\n",
       "      <td>Sing</td>\n",
       "      <td>Animation,Comedy,Family</td>\n",
       "      <td>In a city of humanoid animals, a hustling thea...</td>\n",
       "      <td>Christophe Lourdelet</td>\n",
       "      <td>Matthew McConaughey,Reese Witherspoon, Seth Ma...</td>\n",
       "      <td>2016</td>\n",
       "      <td>108</td>\n",
       "      <td>7.2</td>\n",
       "      <td>60545</td>\n",
       "      <td>270.32</td>\n",
       "      <td>59.0</td>\n",
       "    </tr>\n",
       "    <tr>\n",
       "      <th>4</th>\n",
       "      <td>5</td>\n",
       "      <td>Suicide Squad</td>\n",
       "      <td>Action,Adventure,Fantasy</td>\n",
       "      <td>A secret government agency recruits some of th...</td>\n",
       "      <td>David Ayer</td>\n",
       "      <td>Will Smith, Jared Leto, Margot Robbie, Viola D...</td>\n",
       "      <td>2016</td>\n",
       "      <td>123</td>\n",
       "      <td>6.2</td>\n",
       "      <td>393727</td>\n",
       "      <td>325.02</td>\n",
       "      <td>40.0</td>\n",
       "    </tr>\n",
       "  </tbody>\n",
       "</table>\n",
       "</div>"
      ],
      "text/plain": [
       "   Rank                    Title                     Genre  \\\n",
       "0     1  Guardians of the Galaxy   Action,Adventure,Sci-Fi   \n",
       "1     2               Prometheus  Adventure,Mystery,Sci-Fi   \n",
       "2     3                    Split           Horror,Thriller   \n",
       "3     4                     Sing   Animation,Comedy,Family   \n",
       "4     5            Suicide Squad  Action,Adventure,Fantasy   \n",
       "\n",
       "                                         Description              Director  \\\n",
       "0  A group of intergalactic criminals are forced ...            James Gunn   \n",
       "1  Following clues to the origin of mankind, a te...          Ridley Scott   \n",
       "2  Three girls are kidnapped by a man with a diag...    M. Night Shyamalan   \n",
       "3  In a city of humanoid animals, a hustling thea...  Christophe Lourdelet   \n",
       "4  A secret government agency recruits some of th...            David Ayer   \n",
       "\n",
       "                                              Actors  Year  Runtime (Minutes)  \\\n",
       "0  Chris Pratt, Vin Diesel, Bradley Cooper, Zoe S...  2014                121   \n",
       "1  Noomi Rapace, Logan Marshall-Green, Michael Fa...  2012                124   \n",
       "2  James McAvoy, Anya Taylor-Joy, Haley Lu Richar...  2016                117   \n",
       "3  Matthew McConaughey,Reese Witherspoon, Seth Ma...  2016                108   \n",
       "4  Will Smith, Jared Leto, Margot Robbie, Viola D...  2016                123   \n",
       "\n",
       "   Rating   Votes  Revenue (Millions)  Metascore  \n",
       "0     8.1  757074              333.13       76.0  \n",
       "1     7.0  485820              126.46       65.0  \n",
       "2     7.3  157606              138.12       62.0  \n",
       "3     7.2   60545              270.32       59.0  \n",
       "4     6.2  393727              325.02       40.0  "
      ]
     },
     "execution_count": 4,
     "metadata": {},
     "output_type": "execute_result"
    }
   ],
   "source": [
    "# Загружаем CSV\n",
    "df = pd.read_csv(\"IMDB-Movie-Data.csv\")\n",
    "\n",
    "# Первые 5 строк\n",
    "df.head()\n"
   ]
  },
  {
   "cell_type": "markdown",
   "id": "e355df46",
   "metadata": {},
   "source": [
    "## Средний рейтинг фильмов\n",
    "Посчитаем среднее значение рейтинга по всему датасету."
   ]
  },
  {
   "cell_type": "code",
   "execution_count": 6,
   "id": "139f17c0",
   "metadata": {},
   "outputs": [
    {
     "name": "stdout",
     "output_type": "stream",
     "text": [
      "Средний рейтинг фильмов: 6.72\n"
     ]
    }
   ],
   "source": [
    "average_rating = df[\"Rating\"].mean()\n",
    "print(f\"Средний рейтинг фильмов: {average_rating:.2f}\")"
   ]
  },
  {
   "cell_type": "markdown",
   "id": "f134004d",
   "metadata": {},
   "source": [
    "**Вывод:** Средний рейтинг фильмов составляет примерно 6.72 баллов."
   ]
  },
  {
   "cell_type": "markdown",
   "id": "063ad6b6",
   "metadata": {},
   "source": [
    "## Сколько фильмов жанра Action?\n",
    "Учтём, что у фильма может быть несколько жанров.\n"
   ]
  },
  {
   "cell_type": "code",
   "execution_count": 7,
   "id": "a3909e8e",
   "metadata": {},
   "outputs": [
    {
     "name": "stdout",
     "output_type": "stream",
     "text": [
      "Фильмов с жанром Action: 303\n"
     ]
    }
   ],
   "source": [
    "action_movies = df[df[\"Genre\"].str.contains(\"Action\", na=False)]\n",
    "print(\"Фильмов с жанром Action:\", len(action_movies))\n"
   ]
  },
  {
   "cell_type": "markdown",
   "id": "7391e9ce",
   "metadata": {},
   "source": [
    "**Вывод:** В датасете содержится 303 фильмов жанра Action.\n"
   ]
  },
  {
   "cell_type": "markdown",
   "id": "4612a42c",
   "metadata": {},
   "source": [
    "## Фильм с максимальной прибылью\n",
    "Найдём фильм, который принёс наибольший доход.\n"
   ]
  },
  {
   "cell_type": "code",
   "execution_count": 5,
   "id": "e75848c4",
   "metadata": {},
   "outputs": [
    {
     "name": "stdout",
     "output_type": "stream",
     "text": [
      "Фильм: Star Wars: Episode VII - The Force Awakens\n",
      "Доход: 936.63 млн $\n"
     ]
    }
   ],
   "source": [
    "max_rev_movie = df.loc[df[\"Revenue (Millions)\"].idxmax()]\n",
    "print(\"Фильм:\", max_rev_movie[\"Title\"])\n",
    "print(\"Доход:\", max_rev_movie[\"Revenue (Millions)\"], \"млн $\")\n"
   ]
  },
  {
   "cell_type": "markdown",
   "id": "a433bdff",
   "metadata": {},
   "source": [
    "**Вывод:** Самым прибыльным фильмом оказался Star Wars: Episode VII - The Force Awakens с доходом 936.63 млн долларов.\n"
   ]
  },
  {
   "cell_type": "markdown",
   "id": "80e5f9b1",
   "metadata": {},
   "source": [
    "## Средняя длительность фильмов\n"
   ]
  },
  {
   "cell_type": "code",
   "execution_count": 8,
   "id": "dd06749a",
   "metadata": {},
   "outputs": [
    {
     "name": "stdout",
     "output_type": "stream",
     "text": [
      "Средняя длительность фильмов: 113.2 минут\n"
     ]
    }
   ],
   "source": [
    "average_runtime = df[\"Runtime (Minutes)\"].mean()\n",
    "print(f\"Средняя длительность фильмов: {average_runtime:.1f} минут\")\n"
   ]
  },
  {
   "cell_type": "markdown",
   "id": "9e4f6c5d",
   "metadata": {},
   "source": [
    "**Вывод:** В среднем фильмы длятся около 113 минут.\n"
   ]
  },
  {
   "cell_type": "markdown",
   "id": "f4fee13d",
   "metadata": {},
   "source": [
    "## Распределение рейтингов фильмов\n"
   ]
  },
  {
   "cell_type": "code",
   "execution_count": null,
   "id": "dfd622c2",
   "metadata": {},
   "outputs": [],
   "source": [
    "sns.histplot(df[\"Rating\"], bins=20, kde=True)\n",
    "plt.title(\"Распределение рейтингов фильмов\")\n",
    "plt.xlabel(\"Рейтинг\")\n",
    "plt.ylabel(\"Количество фильмов\")\n",
    "plt.show()\n"
   ]
  }
 ],
 "metadata": {
  "kernelspec": {
   "display_name": "Python 3",
   "language": "python",
   "name": "python3"
  },
  "language_info": {
   "codemirror_mode": {
    "name": "ipython",
    "version": 3
   },
   "file_extension": ".py",
   "mimetype": "text/x-python",
   "name": "python",
   "nbconvert_exporter": "python",
   "pygments_lexer": "ipython3",
   "version": "3.13.7"
  }
 },
 "nbformat": 4,
 "nbformat_minor": 5
}
