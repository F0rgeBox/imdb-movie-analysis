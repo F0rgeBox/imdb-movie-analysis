{
 "cells": [
  {
   "cell_type": "markdown",
   "id": "31ed5a22",
   "metadata": {},
   "source": [
    "# Анализ фильмов IMDb 🎬\n",
    "В этом проекте мы исследуем датасет фильмов IMDb: \n",
    "посчитаем основные статистики, посмотрим популярные жанры, \n",
    "найдём фильм с максимальной прибылью и построим графики.\n"
   ]
  },
  {
   "cell_type": "code",
   "execution_count": null,
   "id": "be7af9c3",
   "metadata": {},
   "outputs": [],
   "source": [
    "import pandas as pd\n",
    "import matplotlib.pyplot as plt\n",
    "import seaborn as sns\n",
    "\n",
    "# Настройка отображения графиков\n",
    "sns.set(style=\"darkgrid\")\n"
   ]
  },
  {
   "cell_type": "markdown",
   "id": "e355df46",
   "metadata": {},
   "source": [
    "## Средний рейтинг фильмов\n",
    "Посчитаем среднее значение рейтинга по всему датасету."
   ]
  },
  {
   "cell_type": "code",
   "execution_count": null,
   "id": "139f17c0",
   "metadata": {},
   "outputs": [],
   "source": [
    "average_rating = df[\"Rating\"].mean()\n",
    "print(f\"Средний рейтинг фильмов: {average_rating:.2f}\")"
   ]
  },
  {
   "cell_type": "markdown",
   "id": "f134004d",
   "metadata": {},
   "source": [
    "**Вывод:** Средний рейтинг фильмов составляет примерно 6.7 баллов."
   ]
  },
  {
   "cell_type": "markdown",
   "id": "063ad6b6",
   "metadata": {},
   "source": [
    "## Сколько фильмов жанра Action?\n",
    "Учтём, что у фильма может быть несколько жанров.\n"
   ]
  },
  {
   "cell_type": "code",
   "execution_count": null,
   "id": "a3909e8e",
   "metadata": {},
   "outputs": [],
   "source": [
    "action_movies = df[df[\"Genre\"].str.contains(\"Action\", na=False)]\n",
    "print(\"Фильмов с жанром Action:\", len(action_movies))\n"
   ]
  },
  {
   "cell_type": "markdown",
   "id": "7391e9ce",
   "metadata": {},
   "source": [
    "**Вывод:** В датасете содержится XXX фильмов жанра Action.\n"
   ]
  },
  {
   "cell_type": "markdown",
   "id": "4612a42c",
   "metadata": {},
   "source": [
    "## Фильм с максимальной прибылью\n",
    "Найдём фильм, который принёс наибольший доход.\n"
   ]
  },
  {
   "cell_type": "code",
   "execution_count": null,
   "id": "e75848c4",
   "metadata": {},
   "outputs": [],
   "source": [
    "max_rev_movie = df.loc[df[\"Revenue (Millions)\"].idxmax()]\n",
    "print(\"Фильм:\", max_rev_movie[\"Title\"])\n",
    "print(\"Доход:\", max_rev_movie[\"Revenue (Millions)\"], \"млн $\")\n"
   ]
  },
  {
   "cell_type": "markdown",
   "id": "a433bdff",
   "metadata": {},
   "source": [
    "**Вывод:** Самым прибыльным фильмом оказался *...* с доходом ... млн долларов.\n"
   ]
  },
  {
   "cell_type": "markdown",
   "id": "80e5f9b1",
   "metadata": {},
   "source": [
    "## Средняя длительность фильмов\n"
   ]
  },
  {
   "cell_type": "code",
   "execution_count": null,
   "id": "dd06749a",
   "metadata": {},
   "outputs": [],
   "source": [
    "average_runtime = df[\"Runtime (Minutes)\"].mean()\n",
    "print(f\"Средняя длительность фильмов: {average_runtime:.1f} минут\")\n"
   ]
  },
  {
   "cell_type": "markdown",
   "id": "9e4f6c5d",
   "metadata": {},
   "source": [
    "**Вывод:** В среднем фильмы длятся около 106 минут.\n"
   ]
  },
  {
   "cell_type": "markdown",
   "id": "f4fee13d",
   "metadata": {},
   "source": [
    "## Распределение рейтингов фильмов\n"
   ]
  },
  {
   "cell_type": "code",
   "execution_count": null,
   "id": "dfd622c2",
   "metadata": {},
   "outputs": [],
   "source": [
    "sns.histplot(df[\"Rating\"], bins=20, kde=True)\n",
    "plt.title(\"Распределение рейтингов фильмов\")\n",
    "plt.xlabel(\"Рейтинг\")\n",
    "plt.ylabel(\"Количество фильмов\")\n",
    "plt.show()\n"
   ]
  }
 ],
 "metadata": {
  "kernelspec": {
   "display_name": "Python 3",
   "language": "python",
   "name": "python3"
  },
  "language_info": {
   "name": "python",
   "version": "3.13.7"
  }
 },
 "nbformat": 4,
 "nbformat_minor": 5
}
